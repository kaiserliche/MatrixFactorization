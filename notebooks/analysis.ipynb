{
 "cells": [
  {
   "cell_type": "code",
   "execution_count": 33,
   "metadata": {},
   "outputs": [],
   "source": [
    "import kagglehub\n",
    "import pandas as pd\n",
    "import numpy as np\n",
    "from collections import defaultdict"
   ]
  },
  {
   "cell_type": "code",
   "execution_count": 34,
   "metadata": {},
   "outputs": [],
   "source": [
    "### movielens 1M\n",
    "path = kagglehub.dataset_download(\"odedgolden/movielens-1m-dataset\")\n",
    "rcolumns = ['userid', 'movieid', 'rating', 'timestamp']\n",
    "data = pd.read_table(f\"{path}/ratings.dat\", names = rcolumns, sep = \"::\", encoding = \"latin1\", engine='python')"
   ]
  },
  {
   "cell_type": "code",
   "execution_count": 35,
   "metadata": {},
   "outputs": [],
   "source": [
    "data.drop('timestamp', axis=1, inplace=True)"
   ]
  },
  {
   "cell_type": "code",
   "execution_count": 36,
   "metadata": {},
   "outputs": [
    {
     "data": {
      "text/plain": [
       "True"
      ]
     },
     "execution_count": 36,
     "metadata": {},
     "output_type": "execute_result"
    }
   ],
   "source": [
    "all(data['userid'].unique() == [i for i in range(1, 6041)])"
   ]
  },
  {
   "cell_type": "code",
   "execution_count": 37,
   "metadata": {},
   "outputs": [],
   "source": [
    "# reset userid from 0 \n",
    "data['userid'] = data['userid'] - 1"
   ]
  },
  {
   "cell_type": "code",
   "execution_count": 38,
   "metadata": {},
   "outputs": [
    {
     "name": "stdout",
     "output_type": "stream",
     "text": [
      "1 3952 3706\n",
      "Number of Missing movie id's =  246\n"
     ]
    }
   ],
   "source": [
    "mov = sorted(data['movieid'].unique())\n",
    "print(mov[0], mov[-1], len(mov))\n",
    "\n",
    "print(\"Number of Missing movie id's = \", mov[-1] - len(mov))"
   ]
  },
  {
   "cell_type": "code",
   "execution_count": 39,
   "metadata": {},
   "outputs": [],
   "source": [
    "#### movieid  1 to 3952\n",
    "\n",
    "### reset movieid from 0 - 3705\n",
    "\n",
    "### get all the values of miveid in set\n",
    "### map 0 to 3705\n",
    "\n",
    "movieid = data['movieid'].unique()\n",
    "movieid = np.sort(movieid)\n",
    "movieid = movieid.tolist()\n",
    "movieid = dict(zip(movieid, list(range(0,len(movieid)))))\n"
   ]
  },
  {
   "cell_type": "code",
   "execution_count": 40,
   "metadata": {},
   "outputs": [],
   "source": [
    "### mapping movie id to 0 - 3705\n",
    "data['movieid'] = data['movieid'].map(movieid)"
   ]
  },
  {
   "cell_type": "code",
   "execution_count": 41,
   "metadata": {},
   "outputs": [
    {
     "data": {
      "text/plain": [
       "True"
      ]
     },
     "execution_count": 41,
     "metadata": {},
     "output_type": "execute_result"
    }
   ],
   "source": [
    "all(np.sort(data['movieid'].unique()) == np.arange(0, 3706))"
   ]
  },
  {
   "cell_type": "code",
   "execution_count": 42,
   "metadata": {},
   "outputs": [
    {
     "name": "stdout",
     "output_type": "stream",
     "text": [
      "6040 3706\n"
     ]
    }
   ],
   "source": [
    "### creating user item matrix\n",
    "n_users = data['userid'].nunique()\n",
    "n_items = data['movieid'].nunique()\n",
    "print(n_users, n_items)\n"
   ]
  },
  {
   "cell_type": "code",
   "execution_count": 43,
   "metadata": {},
   "outputs": [],
   "source": [
    "### save processed data\n",
    "data.to_csv(\"../data/movielens1m.csv\", index=False)"
   ]
  }
 ],
 "metadata": {
  "kernelspec": {
   "display_name": "imsim",
   "language": "python",
   "name": "python3"
  },
  "language_info": {
   "codemirror_mode": {
    "name": "ipython",
    "version": 3
   },
   "file_extension": ".py",
   "mimetype": "text/x-python",
   "name": "python",
   "nbconvert_exporter": "python",
   "pygments_lexer": "ipython3",
   "version": "3.10.12"
  }
 },
 "nbformat": 4,
 "nbformat_minor": 2
}
